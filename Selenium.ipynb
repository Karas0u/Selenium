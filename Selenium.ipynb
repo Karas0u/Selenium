{
 "cells": [
  {
   "cell_type": "code",
   "execution_count": 16,
   "id": "650f2daa",
   "metadata": {},
   "outputs": [],
   "source": [
    "import selenium\n",
    "from selenium import webdriver\n",
    "import pyautogui\n",
    "# from bs4 import BeautifulSoup\n",
    "import time\n",
    "import pandas as pd\n",
    "from selenium.webdriver.common.by import By\n",
    "from selenium.webdriver.chrome.service import Service \n",
    "from selenium.webdriver import ActionChains\n",
    "from selenium.webdriver.common.action_chains import ActionChains\n",
    "from selenium.common.exceptions import NoSuchElementException\n",
    "from selenium.webdriver.common.keys import Keys\n",
    "from selenium.webdriver.support.wait import WebDriverWait\n",
    "from selenium.webdriver.support import expected_conditions as EC"
   ]
  },
  {
   "cell_type": "code",
   "execution_count": 17,
   "id": "7b3c6c95-fe82-4c3e-b58e-a4ca46c328a9",
   "metadata": {},
   "outputs": [],
   "source": [
    "browser = webdriver.Chrome()"
   ]
  },
  {
   "cell_type": "code",
   "execution_count": 18,
   "id": "ec17330d",
   "metadata": {},
   "outputs": [],
   "source": [
    "bang_link=(\"https://finance.yahoo.com/\")\n",
    "browser.get(str(bang_link))"
   ]
  },
  {
   "cell_type": "code",
   "execution_count": 90,
   "id": "76060ff2",
   "metadata": {},
   "outputs": [],
   "source": [
    "##import yfinance as yf         #trying out with api\n",
    "\n",
    "##stock = yf.Ticker(\"AAPL\")\n",
    "##hist = stock.history(period=\"max\")  # Fetches historical data"
   ]
  },
  {
   "cell_type": "code",
   "execution_count": 19,
   "id": "6fa0d9e7-e3e9-4e1c-8a30-83b5a9fbf521",
   "metadata": {},
   "outputs": [],
   "source": [
    "search = browser.find_element( By.ID , \"yfin-usr-qry\" )\n",
    "search.send_keys(\"latest news\")\n",
    "time.sleep(1)\n",
    "search.send_keys(Keys.RETURN)"
   ]
  },
  {
   "cell_type": "code",
   "execution_count": 20,
   "id": "fe335df6-b532-4a3b-9362-dd98a834415d",
   "metadata": {},
   "outputs": [],
   "source": [
    "wait = WebDriverWait(browser, 10)\n",
    "articles = wait.until(EC.presence_of_all_elements_located((By.CLASS_NAME, \"StretchedBox\")))"
   ]
  },
  {
   "cell_type": "code",
   "execution_count": 21,
   "id": "9d971c14-d19d-4a23-ad61-18346cb8f283",
   "metadata": {},
   "outputs": [
    {
     "data": {
      "text/plain": [
       "[<selenium.webdriver.remote.webelement.WebElement (session=\"9df12f59a262f3c3ee5bb206734b4062\", element=\"f.D63AAF6B85FD5496F04496870D3C7F6F.d.D818651DB8BB550B8F188DA8DA508F48.e.59\")>,\n",
       " <selenium.webdriver.remote.webelement.WebElement (session=\"9df12f59a262f3c3ee5bb206734b4062\", element=\"f.D63AAF6B85FD5496F04496870D3C7F6F.d.D818651DB8BB550B8F188DA8DA508F48.e.86\")>,\n",
       " <selenium.webdriver.remote.webelement.WebElement (session=\"9df12f59a262f3c3ee5bb206734b4062\", element=\"f.D63AAF6B85FD5496F04496870D3C7F6F.d.D818651DB8BB550B8F188DA8DA508F48.e.87\")>,\n",
       " <selenium.webdriver.remote.webelement.WebElement (session=\"9df12f59a262f3c3ee5bb206734b4062\", element=\"f.D63AAF6B85FD5496F04496870D3C7F6F.d.D818651DB8BB550B8F188DA8DA508F48.e.88\")>,\n",
       " <selenium.webdriver.remote.webelement.WebElement (session=\"9df12f59a262f3c3ee5bb206734b4062\", element=\"f.D63AAF6B85FD5496F04496870D3C7F6F.d.D818651DB8BB550B8F188DA8DA508F48.e.89\")>,\n",
       " <selenium.webdriver.remote.webelement.WebElement (session=\"9df12f59a262f3c3ee5bb206734b4062\", element=\"f.D63AAF6B85FD5496F04496870D3C7F6F.d.D818651DB8BB550B8F188DA8DA508F48.e.90\")>,\n",
       " <selenium.webdriver.remote.webelement.WebElement (session=\"9df12f59a262f3c3ee5bb206734b4062\", element=\"f.D63AAF6B85FD5496F04496870D3C7F6F.d.D818651DB8BB550B8F188DA8DA508F48.e.91\")>,\n",
       " <selenium.webdriver.remote.webelement.WebElement (session=\"9df12f59a262f3c3ee5bb206734b4062\", element=\"f.D63AAF6B85FD5496F04496870D3C7F6F.d.D818651DB8BB550B8F188DA8DA508F48.e.92\")>,\n",
       " <selenium.webdriver.remote.webelement.WebElement (session=\"9df12f59a262f3c3ee5bb206734b4062\", element=\"f.D63AAF6B85FD5496F04496870D3C7F6F.d.D818651DB8BB550B8F188DA8DA508F48.e.93\")>,\n",
       " <selenium.webdriver.remote.webelement.WebElement (session=\"9df12f59a262f3c3ee5bb206734b4062\", element=\"f.D63AAF6B85FD5496F04496870D3C7F6F.d.D818651DB8BB550B8F188DA8DA508F48.e.94\")>,\n",
       " <selenium.webdriver.remote.webelement.WebElement (session=\"9df12f59a262f3c3ee5bb206734b4062\", element=\"f.D63AAF6B85FD5496F04496870D3C7F6F.d.D818651DB8BB550B8F188DA8DA508F48.e.95\")>,\n",
       " <selenium.webdriver.remote.webelement.WebElement (session=\"9df12f59a262f3c3ee5bb206734b4062\", element=\"f.D63AAF6B85FD5496F04496870D3C7F6F.d.D818651DB8BB550B8F188DA8DA508F48.e.96\")>,\n",
       " <selenium.webdriver.remote.webelement.WebElement (session=\"9df12f59a262f3c3ee5bb206734b4062\", element=\"f.D63AAF6B85FD5496F04496870D3C7F6F.d.D818651DB8BB550B8F188DA8DA508F48.e.97\")>,\n",
       " <selenium.webdriver.remote.webelement.WebElement (session=\"9df12f59a262f3c3ee5bb206734b4062\", element=\"f.D63AAF6B85FD5496F04496870D3C7F6F.d.D818651DB8BB550B8F188DA8DA508F48.e.98\")>,\n",
       " <selenium.webdriver.remote.webelement.WebElement (session=\"9df12f59a262f3c3ee5bb206734b4062\", element=\"f.D63AAF6B85FD5496F04496870D3C7F6F.d.D818651DB8BB550B8F188DA8DA508F48.e.99\")>,\n",
       " <selenium.webdriver.remote.webelement.WebElement (session=\"9df12f59a262f3c3ee5bb206734b4062\", element=\"f.D63AAF6B85FD5496F04496870D3C7F6F.d.D818651DB8BB550B8F188DA8DA508F48.e.100\")>,\n",
       " <selenium.webdriver.remote.webelement.WebElement (session=\"9df12f59a262f3c3ee5bb206734b4062\", element=\"f.D63AAF6B85FD5496F04496870D3C7F6F.d.D818651DB8BB550B8F188DA8DA508F48.e.101\")>,\n",
       " <selenium.webdriver.remote.webelement.WebElement (session=\"9df12f59a262f3c3ee5bb206734b4062\", element=\"f.D63AAF6B85FD5496F04496870D3C7F6F.d.D818651DB8BB550B8F188DA8DA508F48.e.102\")>,\n",
       " <selenium.webdriver.remote.webelement.WebElement (session=\"9df12f59a262f3c3ee5bb206734b4062\", element=\"f.D63AAF6B85FD5496F04496870D3C7F6F.d.D818651DB8BB550B8F188DA8DA508F48.e.103\")>,\n",
       " <selenium.webdriver.remote.webelement.WebElement (session=\"9df12f59a262f3c3ee5bb206734b4062\", element=\"f.D63AAF6B85FD5496F04496870D3C7F6F.d.D818651DB8BB550B8F188DA8DA508F48.e.104\")>,\n",
       " <selenium.webdriver.remote.webelement.WebElement (session=\"9df12f59a262f3c3ee5bb206734b4062\", element=\"f.D63AAF6B85FD5496F04496870D3C7F6F.d.D818651DB8BB550B8F188DA8DA508F48.e.105\")>,\n",
       " <selenium.webdriver.remote.webelement.WebElement (session=\"9df12f59a262f3c3ee5bb206734b4062\", element=\"f.D63AAF6B85FD5496F04496870D3C7F6F.d.D818651DB8BB550B8F188DA8DA508F48.e.106\")>,\n",
       " <selenium.webdriver.remote.webelement.WebElement (session=\"9df12f59a262f3c3ee5bb206734b4062\", element=\"f.D63AAF6B85FD5496F04496870D3C7F6F.d.D818651DB8BB550B8F188DA8DA508F48.e.107\")>,\n",
       " <selenium.webdriver.remote.webelement.WebElement (session=\"9df12f59a262f3c3ee5bb206734b4062\", element=\"f.D63AAF6B85FD5496F04496870D3C7F6F.d.D818651DB8BB550B8F188DA8DA508F48.e.108\")>,\n",
       " <selenium.webdriver.remote.webelement.WebElement (session=\"9df12f59a262f3c3ee5bb206734b4062\", element=\"f.D63AAF6B85FD5496F04496870D3C7F6F.d.D818651DB8BB550B8F188DA8DA508F48.e.109\")>,\n",
       " <selenium.webdriver.remote.webelement.WebElement (session=\"9df12f59a262f3c3ee5bb206734b4062\", element=\"f.D63AAF6B85FD5496F04496870D3C7F6F.d.D818651DB8BB550B8F188DA8DA508F48.e.110\")>,\n",
       " <selenium.webdriver.remote.webelement.WebElement (session=\"9df12f59a262f3c3ee5bb206734b4062\", element=\"f.D63AAF6B85FD5496F04496870D3C7F6F.d.D818651DB8BB550B8F188DA8DA508F48.e.111\")>,\n",
       " <selenium.webdriver.remote.webelement.WebElement (session=\"9df12f59a262f3c3ee5bb206734b4062\", element=\"f.D63AAF6B85FD5496F04496870D3C7F6F.d.D818651DB8BB550B8F188DA8DA508F48.e.112\")>,\n",
       " <selenium.webdriver.remote.webelement.WebElement (session=\"9df12f59a262f3c3ee5bb206734b4062\", element=\"f.D63AAF6B85FD5496F04496870D3C7F6F.d.D818651DB8BB550B8F188DA8DA508F48.e.113\")>,\n",
       " <selenium.webdriver.remote.webelement.WebElement (session=\"9df12f59a262f3c3ee5bb206734b4062\", element=\"f.D63AAF6B85FD5496F04496870D3C7F6F.d.D818651DB8BB550B8F188DA8DA508F48.e.114\")>,\n",
       " <selenium.webdriver.remote.webelement.WebElement (session=\"9df12f59a262f3c3ee5bb206734b4062\", element=\"f.D63AAF6B85FD5496F04496870D3C7F6F.d.D818651DB8BB550B8F188DA8DA508F48.e.115\")>]"
      ]
     },
     "execution_count": 21,
     "metadata": {},
     "output_type": "execute_result"
    }
   ],
   "source": [
    "articles"
   ]
  },
  {
   "cell_type": "code",
   "execution_count": 22,
   "id": "13810eb3-31e7-4f34-b201-e088bbe5cf0b",
   "metadata": {},
   "outputs": [],
   "source": [
    "H_List = []\n",
    "B_List =[]\n",
    "c = 0\n",
    "d = 0\n",
    "original_window = browser.current_window_handle\n",
    "for article in articles:\n",
    "    try:\n",
    "        article.click()\n",
    "        try:\n",
    "            wait.until(EC.presence_of_all_elements_located((By.CLASS_NAME, \"caas-body\")))\n",
    "            heading = browser.find_element( By.CLASS_NAME , \"caas-title-wrapper\" ).text               \n",
    "            body = browser.find_element( By.CLASS_NAME , \"caas-body\" ).text\n",
    "        except: \n",
    "            if len(browser.window_handles) > 1:\n",
    "                new_tab = browser.window_handles[-1]\n",
    "                browser.switch_to.window(new_tab)\n",
    "                browser.close()\n",
    "                browser.switch_to.window(original_window)\n",
    "                d = d+1\n",
    "                # sleep_time(1)\n",
    "                continue\n",
    "                    \n",
    "        H_List.append(heading)\n",
    "        B_List.append(body)\n",
    "        browser.back()\n",
    "        time.sleep(3)\n",
    "        c = c+1\n",
    "        wait.until(EC.presence_of_all_elements_located((By.CLASS_NAME, \"StretchedBox\")))\n",
    "    except:\n",
    "        break"
   ]
  },
  {
   "cell_type": "code",
   "execution_count": 18,
   "id": "98128a36-deec-4846-96a7-c1e9f3f67278",
   "metadata": {},
   "outputs": [
    {
     "data": {
      "text/plain": [
       "0"
      ]
     },
     "execution_count": 18,
     "metadata": {},
     "output_type": "execute_result"
    }
   ],
   "source": [
    "d"
   ]
  },
  {
   "cell_type": "code",
   "execution_count": 12,
   "id": "0a22c798-d43b-46ea-a3af-48acdf3318e7",
   "metadata": {},
   "outputs": [
    {
     "data": {
      "text/html": [
       "<div>\n",
       "<style scoped>\n",
       "    .dataframe tbody tr th:only-of-type {\n",
       "        vertical-align: middle;\n",
       "    }\n",
       "\n",
       "    .dataframe tbody tr th {\n",
       "        vertical-align: top;\n",
       "    }\n",
       "\n",
       "    .dataframe thead th {\n",
       "        text-align: right;\n",
       "    }\n",
       "</style>\n",
       "<table border=\"1\" class=\"dataframe\">\n",
       "  <thead>\n",
       "    <tr style=\"text-align: right;\">\n",
       "      <th></th>\n",
       "      <th>0</th>\n",
       "    </tr>\n",
       "  </thead>\n",
       "  <tbody>\n",
       "    <tr>\n",
       "      <th>0</th>\n",
       "      <td>European Union announces $8 billion package of...</td>\n",
       "    </tr>\n",
       "    <tr>\n",
       "      <th>1</th>\n",
       "      <td>Aid reaches northern Gaza as Israel and Hamas ...</td>\n",
       "    </tr>\n",
       "    <tr>\n",
       "      <th>2</th>\n",
       "      <td>Swiss bank UBS targets US deals, says chairman</td>\n",
       "    </tr>\n",
       "    <tr>\n",
       "      <th>3</th>\n",
       "      <td>Iceland lava flows slow after fourth eruption ...</td>\n",
       "    </tr>\n",
       "    <tr>\n",
       "      <th>4</th>\n",
       "      <td>Hedge Fund Veteran Pitches First-Ever Emission...</td>\n",
       "    </tr>\n",
       "    <tr>\n",
       "      <th>5</th>\n",
       "      <td>UPDATE 1-Breakaway Georgian region is discussi...</td>\n",
       "    </tr>\n",
       "    <tr>\n",
       "      <th>6</th>\n",
       "      <td>UPDATE 2-Russia election set to tighten Putin'...</td>\n",
       "    </tr>\n",
       "    <tr>\n",
       "      <th>7</th>\n",
       "      <td>Offshore Wind’s Next Big Problem: Not Enough S...</td>\n",
       "    </tr>\n",
       "    <tr>\n",
       "      <th>8</th>\n",
       "      <td>UPDATE 1-Russia's drone attack on Odesa damage...</td>\n",
       "    </tr>\n",
       "    <tr>\n",
       "      <th>9</th>\n",
       "      <td>Sunak Faces Economic Misery Similar to Before ...</td>\n",
       "    </tr>\n",
       "    <tr>\n",
       "      <th>10</th>\n",
       "      <td>Nvidia's Jensen Huang, Fed's Powell may rock m...</td>\n",
       "    </tr>\n",
       "  </tbody>\n",
       "</table>\n",
       "</div>"
      ],
      "text/plain": [
       "                                                    0\n",
       "0   European Union announces $8 billion package of...\n",
       "1   Aid reaches northern Gaza as Israel and Hamas ...\n",
       "2      Swiss bank UBS targets US deals, says chairman\n",
       "3   Iceland lava flows slow after fourth eruption ...\n",
       "4   Hedge Fund Veteran Pitches First-Ever Emission...\n",
       "5   UPDATE 1-Breakaway Georgian region is discussi...\n",
       "6   UPDATE 2-Russia election set to tighten Putin'...\n",
       "7   Offshore Wind’s Next Big Problem: Not Enough S...\n",
       "8   UPDATE 1-Russia's drone attack on Odesa damage...\n",
       "9   Sunak Faces Economic Misery Similar to Before ...\n",
       "10  Nvidia's Jensen Huang, Fed's Powell may rock m..."
      ]
     },
     "execution_count": 12,
     "metadata": {},
     "output_type": "execute_result"
    }
   ],
   "source": [
    "pd.DataFrame(H_List)"
   ]
  },
  {
   "cell_type": "code",
   "execution_count": 13,
   "id": "eed460af-c172-4a3e-bd38-5ea45acab11f",
   "metadata": {},
   "outputs": [
    {
     "data": {
      "text/plain": [
       "['CAIRO (AP) — The European Union on Sunday announced a $8 billion aid package for cash-strapped Egypt amid concerns that economic pressure and conflicts and chaos in neighboring countries could drive more migrants to European shores.\\nThe deal is scheduled to be signed during a visit by European Commission president Ursula von der Leyen and the leaders of Belgium, Italy, Austria, Cyprus and Greece, according to Egyptian officials.\\nThe package includes both grants and loans over the next three years for the Arab world’s most populous country, according to the European Union Mission in Cairo.\\nThe EU will provide assistance to Egypt’s government to fortify its borders especially with Libya, a major transit point for migrants fleeing poverty and conflicts in Africa and the Middle East, and will support the government in hosting Sudanese who have fled nearly a year of fighting between rival generals in their country.\\nEgypt has for decades been a refuge for migrants from sub-Saharan Africa trying to escape war or poverty. For some, Egypt is a destination and a haven, the closest and easiest country for them to reach. For others, it is a point of transit before attempting the dangerous Mediterranean crossing to Europe.',\n",
       " 'By Nidal al-Mughrabi\\nCAIRO, March 17 (Reuters) - Trucks of flour have reached northern Gaza for distribution to areas that have had no aid in four months, Palestinian media reported on Sunday, with famine looming in the enclave and truce talks between Israel and Hamas due to resume in Qatar.\\nA convoy of 12 trucks arrived in the north on Saturday - six in Gaza City and six in the Jabalia refugee camp - carrying supplies to also be distributed to the northernmost areas of Beit Lahiya and Beit Hanoun, the media and residents said.\\nThe Hamas-linked Home Front media outlet reported that the aid was distributed by the \"Popular Committees\", a group that includes leaders of powerful clans in Gaza. A Hamas source said the route was secured by Hamas security personnel.\\nAid agencies have warned that pockets of Gaza already face famine, with hospitals in the north reporting children dying of malnutrition and dehydration.\\nThe hunger crisis has piled international pressure on Israel more than five months into its ground and air campaign in Gaza, triggered by the Oct. 7 Hamas attack, with more talks for a ceasefire and hostage exchange expected in the coming days.\\nHamas killed around 1,200 people in its attack and seized 253 hostages, according to Israeli tallies. Israel\\'s military campaign in Gaza has now killed more than 31,500 Palestinians according to health authorities in Hamas-run Gaza.\\nAn Israeli strike overnight killed 12 people in one house in Deir al-Balah in the centre of the tiny, crowded Gaza Strip, the health ministry said, among 92 people it said had been killed in the previous 24 hours.\\nIsrael\\'s stated war aim is to wipe out Hamas, and it has said this can only be achieved with an assault on Rafah on the border with Egypt, the last relatively safe place for civilians who have flocked to camps there from other parts of Gaza.\\nIsrael\\'s Western allies have warned it against attacking Rafah, however, unless it is able to protect civilians. But Prime Minister Benjamin Netanyahu\\'s office said on Friday he had approved plans for an assault.\\nStory continues',\n",
       " 'ZURICH (Reuters) - Swiss banking giant UBS will look for merger and acquisitions opportunities in the United States in the next few years, its chairman told the NZZ newspaper on Sunday.\\nUBS, which took over former rival Credit Suisse last June, wants to expand its U.S. wealth-management business through potential M&A in the next three or four years, Colm Kelleher said.\\n\"Only in wealth management and not yet,\" he added.\\nSince rescuing Credit Suisse, UBS has faced criticism over a $1.6 trillion-plus balance sheet that is nearly twice the size of the Swiss economy and has prompted the country to review its regulation of systemically important banks.\\nKelleher, however, pushed back against calls for UBS to be subject to higher capital requirements.\\n\"If you have too much capital, you penalise the shareholders, but also the customers because banking services become more expensive,\" he told NZZ.\\nThe first merger of two systemically important global banking groups also resulted in the return of former boss Sergio Ermotti for a second stint at the helm.\\nKelleher said Ermotti is the right person for the \"Herculean task\" of integrating Credit Suisse, adding that he would like Ermotti\\'s successor to be someone from within UBS.\\n(Reporting by Noele Illien; Editing by David Goodman)',\n",
       " 'March 17 (Reuters) - Lava flows from a volcano in southwest Iceland that had lit up the night sky on Saturday appeared to slow on Sunday, but authorities said they still posed a danger to infrastructure including a nearby fishing town.\\nThe eruption - the fourth since December - began at 2023 GMT on Saturday, sending fountains of molten rock soaring from a roughly 3 km-long (1.9 mile) fissure, roughly the same size and at the same place as the last eruption in February.\\nAuthorities had warned for weeks that an eruption was imminent on the Reykjanes peninsula just south of Iceland\\'s capital Reykjavik, as magma had been accumulating underground.\\n\"Seismic activity has decreased since the eruption began,\" Palmi Erlendsson, natural hazard expert at the Icelandic Meteorological Office (IMO), told public broadcaster RUV on Sunday.\\nLivestream video early on Sunday showed lava flowing just a few hundred metres from Grindavik, a fishing town of some 4,000 residents that was evacuated during an eruption in November.\\nThe barriers that authorities had erected around the town appeared to have redirected flows away from key infrastructure, IMO expert Einar Hjörleifsson, told RUV.\\nAuthorities were also monitoring lava flowing towards the peninsula\\'s Svartsengi geothermal power plant, Hjörleifsson said.\\nA few residents who had returned to their homes in Grindavik since the last eruption in February were evacuated on Saturday, RUV reported.\\nKeflavik Airport and regional airports in Iceland were not impacted and remained fully operational, airport operator Isavia\\'s website showed on Sunday.\\nThe nearby Blue Lagoon geothermal spa, one of Iceland\\'s major tourist attractions, closed as it did during previous eruptions.\\nThe February eruption cut off heating to more than 20,000 people as lava flows destroyed roads and pipelines. (Reporting by Jacob Gronholt-Pedersen and Louise Rasmussen; Editing by Hugh Lawson)',\n",
       " '(Bloomberg) -- A veteran of alternative investment management has started pitching a new type of securitization he says would allow banks to cut the carbon footprint of their balance sheets.\\nMost Read from Bloomberg\\nApple Without AI Looks More Like Coca-Cola Than High-Growth Tech\\nUS Probing Indian Billionaire Gautam Adani and His Group Over Potential Bribery\\nWhat Does the UAE Get for Its $35 Billion Investment in Egypt?\\nWant to Be ‘Certified Crypto Expert?’ You Need 11 Hours and $229\\nTwo Airplanes Lugging Cargo Together Is Texas Startup’s Big Bet\\nAndrew Hohns, a former managing director at hedge fund Mariner Investment Group who now runs Newmarket Capital, says he’s currently in talks with a number of banks to construct such novel transfers.\\nFor banks, repackaging and transferring the credit risk from their loan books to less-regulated private fund managers is nothing new. The appeal for investors on the other side of such deals is that they get double-digit returns, while banks get capital relief, freeing them up to do more business.\\nNewmarket, a Philadelphia-based alternative asset manager that specializes in structured credit, is now pitching a similar mechanism for banks to repackage and transfer their so-called financed emissions, which represent the greenhouse gas pollution linked to their lending and investment activities. Banks that channel a lot of capital into the fossil fuel industry, for example, would have big financed emissions.\\nThe idea is to “transfer the credit risk, but at the same time transfer the so-called emissions risk to a third-party investor outside of the banking system, such as ourselves,” Hohns said.\\nSuch structured products would be the latest in a string of innovations that includes everything from debt-for-nature swaps to novel use of carbon offsets, as the wizards of high finance experiment with new instruments to tackle climate risk. Applying a risk-transfer model to carbon emissions remains experimental, in large part because it’s hard to assign monetary values to such risk and because no rules exist to guide such a construction.\\nStory continues',\n",
       " '(Adds quote and context on the region)\\nMOSCOW, March 17 (Reuters) - South Ossetia, a region that broke away from Georgia and calls itself an independent state, has discussed becoming part of Russia with Moscow officials, Russian news agency RIA cited the head of South Ossetia\\'s parliament as saying on Sunday.\\nRussia recognised South Ossetia and another breakaway region, Abkhazia, as independent states in 2008 after Russian troops repelled a Georgian attempt to retake South Ossetia in a five-day war in 2008. Venezuela, Nicaragua, Nauru, and Syria recognised them as independent too.\\nBut the West accused Russia of effectively annexing Abkhazia and South Ossetia, one fifth of Georgia\\'s territory, and Tbilisi wants the two regions back.\\n\"We are discussing all these issues in close coordination with Russia, taking into account our bilateral relations and treaties,\" RIA quoted Alan Alborov, the chairman of South Ossetia\\'s parliament, as saying in answer to a question about the possibility of holding a referendum on becoming part of Russia.\\n\"When we come to this idea together with the Russian Federation (about joining the Russian Federation), we will do it,\" RIA quoted Alborov as saying\\nThe Russian-backed leader of South Ossetia, Alan Gagloev, last year expressed hope that the region could be formally incorporated into Russia, RIA said.\\nSouth Ossetia broke away from Georgian rule in a war in 1991-92 in which several thousand people died, and maintains close ties with the neighbouring Russian region of North Ossetia.\\nThe majority of South Ossetians are ethnically distinct from Georgians, and speak their own language, related to Farsi.\\nAlmost all the population have accepted Russian passports. They use the Russian rouble as their currency and the economy is dependent on Russia. (Reporting by Reuters; Writing by Guy Faulconbridge Editing by Andrew Osborn)',\n",
       " '*\\nPutin due to win six more years in power\\n*\\nWar hangs over the election\\n*\\nUkraine strikes Russia with drones and rockets\\n*\\nSome come out for \\'Noon against Putin\\' protest\\n(Adds details on noon protests, Navalny\\'s widow)\\nBy Guy Faulconbridge and Andrew Osborn\\nMOSCOW, March 17 (Reuters) - President Vladimir Putin is poised to tighten his grip on power on Sunday in a Russian election that is certain to deliver him a landslide victory, though some opponents staged a symbolic noon protest at polling stations against his rule.\\nPutin, who rose to power in 1999, is poised to win a new six-year term that, if he completes it, would enable him to overtake Josef Stalin and become Russia\\'s longest-serving leader for more than 200 years.\\nThe election comes just over two years since Putin triggered the deadliest European conflict since World War Two by ordering the invasion of Ukraine. He casts it as a \"special military operation\".\\nWar has hung over the three day election: Ukraine has repeatedly attacked oil refineries in Russia, shelled Russian regions and sought to pierce Russian borders with proxy forces - a move Putin said would not be left unpunished.\\nWhile Putin\\'s re-election is not in doubt given his control over Russia and the absence of any real challengers, the former KGB spy wants to show that he has the overwhelming support of Russians. Voting ends at 1800 GMT on Sunday.\\nThe Kremlin has sought a high turnout, and as polls opened for a third day in western Russia, officials said the turnout in the first two days had already reached 63% nationwide. An exit poll will be published shortly after voting ends at 1800 GMT.\\nSupporters of Alexei Navalny, who died in an Arctic prison last month, had called on Russians to come out at a \"Noon against Putin\" protest to show their dissent against a leader they cast as a corrupt autocrat.\\n\"Alexei was fighting for very simple things: for freedom of speech, for fair elections, for democracy and our right to live without corruption and war,\" Navalny\\'s widow, Yulia, said in a message to a rally in Budapest on March 15.\\nStory continues',\n",
       " '(Bloomberg) -- On the outskirts of Rotterdam, a bright orange ship is hoisted above the muddy Rhine with the help of six chunky triangular legs. The vessel has just been retrofit with a huge crane capable of lifting up to 1,600 tons 160 meters above deck. Once the finishing touches have been made, the Wind Osprey will take off for Germany, and return to building wind turbines at sea.\\nMost Read from Bloomberg\\nApple Without AI Looks More Like Coca-Cola Than High-Growth Tech\\nUS Probing Indian Billionaire Gautam Adani and His Group Over Potential Bribery\\nWhat Does the UAE Get for Its $35 Billion Investment in Egypt?\\nWant to Be ‘Certified Crypto Expert?’ You Need 11 Hours and $229\\nTwo Airplanes Lugging Cargo Together Is Texas Startup’s Big Bet\\nAs governments green their economies and utilities retire fossil-fuel power stations, wind installations are emerging as one of the most popular forms of alternative energy. Globally, offshore wind capacity is poised to quintuple between 2022 and the middle of the next decade, according to BloombergNEF, and to squeeze more energy out of the wind, turbines are getting bigger and bigger. That means that ships capable of installing them are in growing demand.\\nAnd at the moment, the fleet isn’t expanding quickly enough.\\nClarksons Offshore Renewables, a shipping broker that matches vessels with project developers, estimates that there are between 15 and 20 ships outside China able to install turbines with a minimum 15-megawatt capacity, and that more will be needed in the next several years. Consultant Wood Mackenzie Ltd. says that there are about 40 ships operating outside China, though not all are used exclusively for offshore wind. To meet future demand, Woodmac anticipates about $14.8 billion will need to be invested. So far, only about a third of that has actually been committed.\\nBuilding an enormous wind turbine is a complicated task on land, never mind on the open ocean. It starts with carefully loading components onto a ship. Towers and blades can be more than 100 meters long, and the container that houses the generator, called a nacelle, is around the size of a villa. Once the ship reaches the future site of the turbine, the pieces must be removed and assembled. It takes roughly three days to install just one turbine, depending on travel time to port.\\nStory continues',\n",
       " '(Recasts, adds detail in paragraphs 1-6)\\nMarch 17 (Reuters) - Russian air attacks damaged agricultural enterprises and destroyed several industrial buildings in the Black Sea port of Odesa overnight, Ukraine\\'s forces said on Sunday.\\nRussia launched 16 drones and seven missiles, Ukraine\\'s air force posted on the Telegram messaging app. Fourteen drones were destroyed over the Odesa region.\\nIt was not immediately clear what happened to the two drones that were not destroyed or whether the missiles hit their targets. The air force said the missiles targeted Ukraine\\'s Kharkiv, Donetsk and Chernikhiv region.\\nRussia\\'s attacks come as Ukraine launched 35 drones against broad areas of Russia, including Moscow, on Sunday, the final day of Russia\\'s presidential vote.\\nReuters could not independently verify the reports.\\nThe south command of Ukraine\\'s armed forces, whose area includes Odesa, said two agricultural enterprises were damaged in Odesa district.\\n\"Unfortunately, it was not possible to avoid getting hit,\" the command said on Telegram.\\n\"Fires broke out there, industrial buildings were destroyed. Fires were extinguished promptly. People were not injured.\"\\nIt was not immediately clear whether the damage was caused by falling drone debris or drones that were not downed. (Reporting by Lidia Kelly in Melbourne; Editing by Edmund Klamann and William Mallard)',\n",
       " '(Bloomberg) -- Rishi Sunak’s government is facing the same levels of economic misery that led to the Conservative Party’s defeat in 1997, helping explain why the prime minister plans to delay the next election until late this year.\\nMost Read from Bloomberg\\nApple Without AI Looks More Like Coca-Cola Than High-Growth Tech\\nUS Probing Indian Billionaire Gautam Adani and His Group Over Potential Bribery\\nWhat Does the UAE Get for Its $35 Billion Investment in Egypt?\\nWant to Be ‘Certified Crypto Expert?’ You Need 11 Hours and $229\\nTwo Airplanes Lugging Cargo Together Is Texas Startup’s Big Bet\\nThe Misery Index, created in the 1970s to capture the combined impacts of unemployment and inflation, is likely to improve over the next 12 months in the UK as price pressures dissipate. For now, and during Liz Truss’s brief term as premier in 2022, it’s showing its worst levels since John Major was ejected from office.\\nThe figures shed light on how voters feel about an economy that tipped into recession in 2023 and is still struggling with a cost-of-living crisis. Sunak must call an election by January 2025 and has said his assumption is he’ll call a poll in the autumn, giving time for the most painful impacts to recede.\\n“From an economic perspective, it makes sense for Sunak to wait as long as he can before calling an election,” said Ruth Gregory, an economist at Capital Economics Ltd. in London. “Later in the year the economy will probably be out of recession, a recovery will most likely be underway, inflation will be lower, households’ real wages will be rising and interest rates will probably be falling.”\\nThe misery index, based on a Bloomberg analysis of unemployment and inflation data from the Office for National Statistics, averaged almost 12 since Sunak took office in October 2022. That’s down from 15 under Truss, the most painful period since the 1990s, but up from the levels under every administration from Tony Blair through Boris Johnson.\\nStory continues',\n",
       " \"Suddenly and surprisingly, markets ended the past week with traders feeling uneasy.\\nThere was a bit to feel uneasy about:\\nThe mammoth rally in Nvidia  (NVDA)  shares  seemed to stall just as $1,000 a share seemed a possibility.\\nThe major stock-market averages fell back for a second week in a row. (The Dow Jones industrials fell for a third week.)\\nOil prices climbed nearly 4% as worries grew about the brutality of wars in the Middle East and between Russia and Ukraine.\\nInterest rates were moving higher, dashing homebuyer hopes for a thaw in mortgage rates.\\nRelated: Analyst updates stock price target for Super Micro Computer\\nThe pullback in markets surprised because stocks had enjoyed a huge rebound starting at the end of October.\\nThe S&P 500 soared 26% to an all-time closing high of 5,175 on March 12. It's off 1.1% since. Markets do this regularly.\\nBitcoin reminded investors that sentiment can change on a dime. After rising 7.2% from March 9 to $73,463 on March 13, the cryptocurrency fell 9% in less than three days to $66,916. It's still up 57% for the year.\\nThere were reasons for the pullback besides stocks rising too far, too fast.\\nInflation reports were stronger than expected in part because of rising oil prices. U.S. gasoline prices are up 11% so far this year. Gasoline prices typically rise in advance of the summer driving season.\\nHow long all this investor unease will last may may depend on how investors react to two events this week:\\nNvidia holds its annual developer conference starting Monday.\\nThe Federal Reserve holds an important meeting on interest rates Tuesday and Wednesday.\\nNvidia conference talks about all things AI\\nThe Nvidia GTC AI opens Monday afternoon in San Jose, Calif. (GTC stands for GPU Technology Conference.)\\nNvidia CEO Jensen Huang. Nvidia's GTC AI conference opens Monday.\\nShutterstock-Glen Photo\\nCEO Jensen Huang will deliver the keynote address and may offer attendees a first look at its newest products, including its next generation B100 GPU for AI and high-performance computing applications.\\nStory continues\"]"
      ]
     },
     "execution_count": 13,
     "metadata": {},
     "output_type": "execute_result"
    }
   ],
   "source": [
    "B_List"
   ]
  },
  {
   "cell_type": "code",
   "execution_count": 1,
   "id": "5b083882-0fb4-49a8-b3c7-a283fce8e68a",
   "metadata": {},
   "outputs": [
    {
     "ename": "NameError",
     "evalue": "name 'articles' is not defined",
     "output_type": "error",
     "traceback": [
      "\u001b[1;31m---------------------------------------------------------------------------\u001b[0m",
      "\u001b[1;31mNameError\u001b[0m                                 Traceback (most recent call last)",
      "Cell \u001b[1;32mIn[1], line 3\u001b[0m\n\u001b[0;32m      1\u001b[0m h \u001b[38;5;241m=\u001b[39m []\n\u001b[0;32m      2\u001b[0m b \u001b[38;5;241m=\u001b[39m []\n\u001b[1;32m----> 3\u001b[0m \u001b[38;5;28;01mfor\u001b[39;00m article \u001b[38;5;129;01min\u001b[39;00m articles:\n\u001b[0;32m      4\u001b[0m     article\u001b[38;5;241m.\u001b[39mclick()\n\u001b[0;32m      5\u001b[0m     wait\u001b[38;5;241m.\u001b[39muntil(EC\u001b[38;5;241m.\u001b[39mpresence_of_all_elements_located((By\u001b[38;5;241m.\u001b[39mCLASS_NAME, \u001b[38;5;124m\"\u001b[39m\u001b[38;5;124mcaas-body\u001b[39m\u001b[38;5;124m\"\u001b[39m)))\n",
      "\u001b[1;31mNameError\u001b[0m: name 'articles' is not defined"
     ]
    }
   ],
   "source": [
    "h = []\n",
    "b = []\n",
    "for article in articles:\n",
    "    article.click()\n",
    "    wait.until(EC.presence_of_all_elements_located((By.CLASS_NAME, \"caas-body\")))\n",
    "    heading = browser.find_element( By.CLASS_NAME , \"caas-title-wrapper\" ).text               \n",
    "    body = browser.find_element( By.CLASS_NAME , \"caas-body\" ).text\n",
    "    h.append"
   ]
  },
  {
   "cell_type": "code",
   "execution_count": null,
   "id": "5e2cc81a-1d3f-4038-afbf-f6a4e9b106dc",
   "metadata": {},
   "outputs": [],
   "source": []
  }
 ],
 "metadata": {
  "kernelspec": {
   "display_name": "Python 3 (ipykernel)",
   "language": "python",
   "name": "python3"
  },
  "language_info": {
   "codemirror_mode": {
    "name": "ipython",
    "version": 3
   },
   "file_extension": ".py",
   "mimetype": "text/x-python",
   "name": "python",
   "nbconvert_exporter": "python",
   "pygments_lexer": "ipython3",
   "version": "3.11.7"
  }
 },
 "nbformat": 4,
 "nbformat_minor": 5
}
